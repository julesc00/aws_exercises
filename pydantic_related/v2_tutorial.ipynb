{
 "cells": [
  {
   "cell_type": "code",
   "execution_count": 2,
   "id": "cc19d82a-59d6-4d99-a094-c17d2e4e6be5",
   "metadata": {},
   "outputs": [],
   "source": [
    "from pydantic import BaseModel"
   ]
  },
  {
   "cell_type": "markdown",
   "id": "8d9014ac-91c2-4669-882b-89d8961945b2",
   "metadata": {},
   "source": [
    "# Basic Model"
   ]
  },
  {
   "cell_type": "code",
   "execution_count": 3,
   "id": "1e17f0b9-983a-4384-874d-685cf50621f0",
   "metadata": {},
   "outputs": [],
   "source": [
    "class Person(BaseModel):\n",
    "    first_name: str\n",
    "    last_name: str\n",
    "    age: int"
   ]
  },
  {
   "cell_type": "code",
   "execution_count": 5,
   "id": "ed2419d5-9c8a-4725-a701-a9e81ab41cd9",
   "metadata": {},
   "outputs": [
    {
     "data": {
      "text/plain": [
       "Person(first_name='Jemima', last_name='Briones Huerta', age=2)"
      ]
     },
     "execution_count": 5,
     "metadata": {},
     "output_type": "execute_result"
    }
   ],
   "source": [
    "p1 = Person(first_name=\"Jemima\", last_name=\"Briones Huerta\", age=2)\n",
    "p1"
   ]
  },
  {
   "cell_type": "code",
   "execution_count": 6,
   "id": "4af29bee-ff9d-40c5-b77d-d8e2ea4c07f3",
   "metadata": {},
   "outputs": [],
   "source": [
    "from pydantic import ValidationError"
   ]
  },
  {
   "cell_type": "code",
   "execution_count": 9,
   "id": "f601e9bb-c256-4be2-80d7-5c4f63c89e58",
   "metadata": {},
   "outputs": [],
   "source": [
    "try:\n",
    "    p2 = Person(first_name=\"Catherine\", last_name=\"Briones Huerta\", age=\"1\")\n",
    "except ValidationError as err:\n",
    "    print(err)"
   ]
  },
  {
   "cell_type": "code",
   "execution_count": 10,
   "id": "8cc2ec45-95ef-44f6-b1c7-c5804c3da705",
   "metadata": {},
   "outputs": [
    {
     "data": {
      "text/plain": [
       "'Jemima'"
      ]
     },
     "execution_count": 10,
     "metadata": {},
     "output_type": "execute_result"
    }
   ],
   "source": [
    "p1.first_name"
   ]
  },
  {
   "cell_type": "code",
   "execution_count": 11,
   "id": "07a0745d-9f2d-4209-a8cc-e3507fca9971",
   "metadata": {},
   "outputs": [
    {
     "data": {
      "text/plain": [
       "'Catherine'"
      ]
     },
     "execution_count": 11,
     "metadata": {},
     "output_type": "execute_result"
    }
   ],
   "source": [
    "p2.first_name"
   ]
  },
  {
   "cell_type": "code",
   "execution_count": 12,
   "id": "65b085db-a26e-4ad1-8efd-2811b2c4a801",
   "metadata": {},
   "outputs": [],
   "source": [
    "p1 = Person(first_name=\"Michelina\", last_name=\"Briones Huerta\", age=13)"
   ]
  },
  {
   "cell_type": "code",
   "execution_count": 13,
   "id": "5a18f6eb-2209-4860-8bdb-05354760a48a",
   "metadata": {},
   "outputs": [
    {
     "data": {
      "text/plain": [
       "'Michelina'"
      ]
     },
     "execution_count": 13,
     "metadata": {},
     "output_type": "execute_result"
    }
   ],
   "source": [
    "p1.first_name"
   ]
  },
  {
   "cell_type": "code",
   "execution_count": 16,
   "id": "8b6a2ca9-6a56-4046-b4c0-4d3a494a7dad",
   "metadata": {},
   "outputs": [
    {
     "data": {
      "text/plain": [
       "'chill'"
      ]
     },
     "execution_count": 16,
     "metadata": {},
     "output_type": "execute_result"
    }
   ],
   "source": [
    "# Watch out, arbitrary assignment happens\n",
    "p1.age = \"chill\"\n",
    "p1.age"
   ]
  },
  {
   "cell_type": "markdown",
   "id": "d3822789-c023-46f7-a2bf-4b920510163b",
   "metadata": {},
   "source": [
    "# Validation Exceptions"
   ]
  },
  {
   "cell_type": "code",
   "execution_count": 23,
   "id": "e5c2ed01-de0f-45bf-be64-7d32026a6aad",
   "metadata": {},
   "outputs": [
    {
     "name": "stdout",
     "output_type": "stream",
     "text": [
      "[{\"type\":\"string_type\",\"loc\":[\"last_name\"],\"msg\":\"Input should be a valid string\",\"input\":22,\"url\":\"https://errors.pydantic.dev/2.9/v/string_type\"},{\"type\":\"int_parsing\",\"loc\":[\"age\"],\"msg\":\"Input should be a valid integer, unable to parse string as an integer\",\"input\":\"hello there\",\"url\":\"https://errors.pydantic.dev/2.9/v/int_parsing\"}]\n"
     ]
    }
   ],
   "source": [
    "try:\n",
    "    p2 = Person(first_name=\"Catherine\", last_name=22, age=\"hello there\")\n",
    "\n",
    "except ValidationError as err:\n",
    "    print(err.json())\n",
    "    "
   ]
  },
  {
   "cell_type": "code",
   "execution_count": 20,
   "id": "23c4cd5a-963d-4a35-95fc-3c18a900bdbb",
   "metadata": {},
   "outputs": [
    {
     "ename": "NameError",
     "evalue": "name 'err' is not defined",
     "output_type": "error",
     "traceback": [
      "\u001b[0;31m---------------------------------------------------------------------------\u001b[0m",
      "\u001b[0;31mNameError\u001b[0m                                 Traceback (most recent call last)",
      "Cell \u001b[0;32mIn[20], line 1\u001b[0m\n\u001b[0;32m----> 1\u001b[0m \u001b[43merr\u001b[49m\u001b[38;5;241m.\u001b[39mjson()\n",
      "\u001b[0;31mNameError\u001b[0m: name 'err' is not defined"
     ]
    }
   ],
   "source": [
    "err.json()"
   ]
  },
  {
   "cell_type": "markdown",
   "id": "92d169a2-2350-409e-927b-725b8eb2322a",
   "metadata": {},
   "source": [
    "# Deserializing Data"
   ]
  },
  {
   "cell_type": "code",
   "execution_count": 28,
   "id": "b2170229-59c5-4950-b27a-f5e9d061a737",
   "metadata": {},
   "outputs": [],
   "source": [
    "data = {\n",
    "    \"first_name\": \"Jemima\",\n",
    "    \"last_name\": \"Briones Huerta\",\n",
    "    \"age\": 2\n",
    "}\n",
    "\n",
    "data_json = \"\"\"\n",
    "{\n",
    "    \"first_name\": \"Jemima\",\n",
    "    \"last_name\": \"Briones Huerta\",\n",
    "    \"age\": 2\n",
    "}\n",
    "\"\"\""
   ]
  },
  {
   "cell_type": "code",
   "execution_count": 30,
   "id": "6468daa3-695b-473d-a31e-ab3004275924",
   "metadata": {},
   "outputs": [
    {
     "data": {
      "text/plain": [
       "Person(first_name='Jemima', last_name='Briones Huerta', age=2)"
      ]
     },
     "execution_count": 30,
     "metadata": {},
     "output_type": "execute_result"
    }
   ],
   "source": [
    "p = Person.model_validate(data)\n",
    "p\n",
    "p2 = Person.model_validate_json(data_json)\n",
    "p2"
   ]
  },
  {
   "cell_type": "markdown",
   "id": "872b7de6-e686-4600-ae30-ec70a46c41fa",
   "metadata": {},
   "source": [
    "# Required vs Optional Fields"
   ]
  },
  {
   "cell_type": "code",
   "execution_count": 31,
   "id": "d0668aa9-ef9e-41fd-af1e-5738a4a7d78b",
   "metadata": {},
   "outputs": [
    {
     "name": "stdout",
     "output_type": "stream",
     "text": [
      "2 validation errors for Person\n",
      "first_name\n",
      "  Field required [type=missing, input_value={'age': 10}, input_type=dict]\n",
      "    For further information visit https://errors.pydantic.dev/2.9/v/missing\n",
      "last_name\n",
      "  Field required [type=missing, input_value={'age': 10}, input_type=dict]\n",
      "    For further information visit https://errors.pydantic.dev/2.9/v/missing\n"
     ]
    }
   ],
   "source": [
    "try:\n",
    "    Person(age=10)\n",
    "except ValidationError as err:\n",
    "    print(err)"
   ]
  },
  {
   "cell_type": "code",
   "execution_count": 32,
   "id": "b3206f6d-52f3-4ba3-aa35-c953fff86a2d",
   "metadata": {},
   "outputs": [
    {
     "name": "stdout",
     "output_type": "stream",
     "text": [
      "2 validation errors for Person\n",
      "first_name\n",
      "  Field required [type=missing, input_value={'age': 10}, input_type=dict]\n",
      "    For further information visit https://errors.pydantic.dev/2.9/v/missing\n",
      "last_name\n",
      "  Field required [type=missing, input_value={'age': 10}, input_type=dict]\n",
      "    For further information visit https://errors.pydantic.dev/2.9/v/missing\n"
     ]
    }
   ],
   "source": [
    "data = {\"age\": 10}\n",
    "try:\n",
    "    Person.model_validate(data)\n",
    "except ValidationError as err:\n",
    "    print(err)"
   ]
  },
  {
   "cell_type": "code",
   "execution_count": 33,
   "id": "9c47ae40-8343-42e7-98ff-21e5a45aaf92",
   "metadata": {},
   "outputs": [],
   "source": [
    "class Person(BaseModel):\n",
    "    first_name: str\n",
    "    last_name: str\n",
    "    age: int = 0"
   ]
  },
  {
   "cell_type": "code",
   "execution_count": 34,
   "id": "6aec72b2-1275-4ce5-8933-8c897b587cb2",
   "metadata": {},
   "outputs": [
    {
     "data": {
      "text/plain": [
       "{'first_name': FieldInfo(annotation=str, required=True),\n",
       " 'last_name': FieldInfo(annotation=str, required=True),\n",
       " 'age': FieldInfo(annotation=int, required=False, default=0)}"
      ]
     },
     "execution_count": 34,
     "metadata": {},
     "output_type": "execute_result"
    }
   ],
   "source": [
    "Person.model_fields"
   ]
  },
  {
   "cell_type": "code",
   "execution_count": 35,
   "id": "3b130d3c-d388-437c-8ec8-5cb31a780833",
   "metadata": {},
   "outputs": [
    {
     "data": {
      "text/plain": [
       "Person(first_name='Jemima', last_name='Briones', age=0)"
      ]
     },
     "execution_count": 35,
     "metadata": {},
     "output_type": "execute_result"
    }
   ],
   "source": [
    "p = Person(first_name=\"Jemima\", last_name=\"Briones\")\n",
    "p"
   ]
  },
  {
   "cell_type": "markdown",
   "id": "0ddbe85a-781b-4043-8fc0-43fa06c2873e",
   "metadata": {},
   "source": [
    "# Nullable Fields"
   ]
  },
  {
   "cell_type": "code",
   "execution_count": 39,
   "id": "75e2550f-9aff-4364-a1ce-00a5639eeffd",
   "metadata": {},
   "outputs": [],
   "source": [
    "class Person(BaseModel):\n",
    "    first_name: str\n",
    "    last_name: str | None = None  # or Union[str, None]\n",
    "    age: int = 0"
   ]
  },
  {
   "cell_type": "code",
   "execution_count": 38,
   "id": "7ebf80be-581c-4c5a-b306-b4aeb3cafcb0",
   "metadata": {},
   "outputs": [
    {
     "data": {
      "text/plain": [
       "{'first_name': FieldInfo(annotation=str, required=True),\n",
       " 'last_name': FieldInfo(annotation=Union[str, NoneType], required=False, default=None),\n",
       " 'age': FieldInfo(annotation=int, required=False, default=0)}"
      ]
     },
     "execution_count": 38,
     "metadata": {},
     "output_type": "execute_result"
    }
   ],
   "source": [
    "Person.model_fields"
   ]
  },
  {
   "cell_type": "code",
   "execution_count": 41,
   "id": "2d47f35a-b6e3-4f2b-a7bf-af144922dce4",
   "metadata": {},
   "outputs": [],
   "source": [
    "from typing import List"
   ]
  },
  {
   "cell_type": "code",
   "execution_count": 44,
   "id": "988841f2-2ea4-45b0-8c79-38fe609a3ba4",
   "metadata": {},
   "outputs": [],
   "source": [
    "class Person(BaseModel):\n",
    "    first_name: str\n",
    "    last_name: str | None = None\n",
    "    age: int = 0\n",
    "    lucky_numbers: list[int] = []"
   ]
  },
  {
   "cell_type": "code",
   "execution_count": 45,
   "id": "a5544541-b9da-4fc4-b0d3-dbe6782dd0ee",
   "metadata": {},
   "outputs": [
    {
     "data": {
      "text/plain": [
       "{'first_name': FieldInfo(annotation=str, required=True),\n",
       " 'last_name': FieldInfo(annotation=Union[str, NoneType], required=False, default=None),\n",
       " 'age': FieldInfo(annotation=int, required=False, default=0),\n",
       " 'lucky_numbers': FieldInfo(annotation=list[int], required=False, default=[])}"
      ]
     },
     "execution_count": 45,
     "metadata": {},
     "output_type": "execute_result"
    }
   ],
   "source": [
    "Person.model_fields"
   ]
  },
  {
   "cell_type": "code",
   "execution_count": 48,
   "id": "9176f4d4-d395-487c-a305-fd37455fb097",
   "metadata": {},
   "outputs": [
    {
     "data": {
      "text/plain": [
       "Person(first_name='Charbel', last_name=None, age=0, lucky_numbers=[1, 2, 3])"
      ]
     },
     "execution_count": 48,
     "metadata": {},
     "output_type": "execute_result"
    }
   ],
   "source": [
    "p = Person(first_name=\"Charbel\", lucky_numbers=[1, \"2\", 3.0])  # Coersion to ints\n",
    "p"
   ]
  },
  {
   "cell_type": "code",
   "execution_count": 49,
   "id": "46f57b24-3509-44da-8a44-156f8a985471",
   "metadata": {},
   "outputs": [
    {
     "data": {
      "text/plain": [
       "[int, int, int]"
      ]
     },
     "execution_count": 49,
     "metadata": {},
     "output_type": "execute_result"
    }
   ],
   "source": [
    "[type(n) for n in p.lucky_numbers]"
   ]
  },
  {
   "cell_type": "markdown",
   "id": "d73572b5-85af-4972-a8dd-b9b72e7a0b4a",
   "metadata": {},
   "source": [
    "# Aliases and the Field Class"
   ]
  },
  {
   "cell_type": "code",
   "execution_count": 50,
   "id": "2fe15e0e-804d-4562-8cc8-454f69890e47",
   "metadata": {},
   "outputs": [],
   "source": [
    "from pydantic import Field\n",
    "\n",
    "data = {\n",
    "    \"id\": 100,\n",
    "    \"First Name\": \"Jemima\",\n",
    "    \"LASTNAME\": \"Briones\",\n",
    "    \"age in years\": 3\n",
    "}"
   ]
  },
  {
   "cell_type": "code",
   "execution_count": 51,
   "id": "8d774662-d9e5-42f8-9dca-df91e5ebbf04",
   "metadata": {},
   "outputs": [],
   "source": [
    "class Person(BaseModel):\n",
    "    id_: int = Field(alias=\"id\")\n",
    "    first_name: str = Field(alias=\"First Name\")\n",
    "    last_name: str = Field(alias=\"LASTNAME\")\n",
    "    age: int = Field(alias=\"age in years\")\n",
    "    "
   ]
  },
  {
   "cell_type": "code",
   "execution_count": 52,
   "id": "73d4a15c-b75d-4c5f-95eb-2ecbfe8b6373",
   "metadata": {},
   "outputs": [
    {
     "data": {
      "text/plain": [
       "Person(id_=100, first_name='Jemima', last_name='Briones', age=3)"
      ]
     },
     "execution_count": 52,
     "metadata": {},
     "output_type": "execute_result"
    }
   ],
   "source": [
    "p = Person.model_validate(data)\n",
    "p"
   ]
  },
  {
   "cell_type": "code",
   "execution_count": null,
   "id": "ddf7e586-a5cf-43d1-8d43-da20a079f85b",
   "metadata": {},
   "outputs": [],
   "source": []
  }
 ],
 "metadata": {
  "kernelspec": {
   "display_name": "Python 3 (ipykernel)",
   "language": "python",
   "name": "python3"
  },
  "language_info": {
   "codemirror_mode": {
    "name": "ipython",
    "version": 3
   },
   "file_extension": ".py",
   "mimetype": "text/x-python",
   "name": "python",
   "nbconvert_exporter": "python",
   "pygments_lexer": "ipython3",
   "version": "3.11.5"
  }
 },
 "nbformat": 4,
 "nbformat_minor": 5
}
