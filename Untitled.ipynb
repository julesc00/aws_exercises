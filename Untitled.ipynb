{
 "cells": [
  {
   "cell_type": "code",
   "execution_count": 2,
   "id": "28909ce8-e5dd-4544-b9f6-a7271d55a99c",
   "metadata": {
    "tags": []
   },
   "outputs": [],
   "source": [
    "import pandas as pd\n",
    "import numpy as np"
   ]
  },
  {
   "cell_type": "code",
   "execution_count": 5,
   "id": "e82a939b-7c6f-4ed2-a661-5b5b84a5cd3d",
   "metadata": {
    "tags": []
   },
   "outputs": [],
   "source": [
    "def get_dataset(size):\n",
    "    # Create fake dataset\n",
    "    df = pd.DataFrame()\n",
    "    df[\"size\"] = np.random.choice([\"big\", \"medium\", \"small\"], size)\n",
    "    df[\"age\"] = np.random.randint(1, 50, size)\n",
    "    df[\"team\"] = np.random.choice([\"red\", \"blue\", \"yellow\", \"green\"], size)\n",
    "    df[\"win\"]: np.random.choice([\"yes\", \"no\"], size)\n",
    "    dates = pd.date_range(\"2023-01-01\", \"2023-12-31\")\n",
    "    df[\"date\"] = np.random.choice(dates, size)\n",
    "    df[\"prob\"] = np.random.uniform(0, 1, size)\n",
    "    \n",
    "    return df\n",
    "\n",
    "\n",
    "def set_dtypes(df):\n",
    "    df[\"size\"] = df[\"size\"].astype(\"category\")\n",
    "    df[\"team\"] = df[\"team\"].astype(\"category\")\n",
    "    df[\"age\"] = df[\"age\"].astype(\"int16\")\n",
    "    df[\"dq\"] = df[\"dq\"].map({\"yes\": True, \"no\": False})\n",
    "    df[\"prob\"] = df[\"prob\"].astype(\"float16\")\n",
    "    \n",
    "    return df\n"
   ]
  },
  {
   "cell_type": "code",
   "execution_count": 9,
   "id": "bc898107-524e-4d54-87df-923b33ae9eee",
   "metadata": {
    "tags": []
   },
   "outputs": [],
   "source": [
    "df = get_dataset(1_000_000)"
   ]
  },
  {
   "cell_type": "code",
   "execution_count": 10,
   "id": "2c8db797-dcbd-42fa-bff8-8d1f33108e2b",
   "metadata": {
    "tags": []
   },
   "outputs": [
    {
     "name": "stdout",
     "output_type": "stream",
     "text": [
      "<class 'pandas.core.frame.DataFrame'>\n",
      "RangeIndex: 1000000 entries, 0 to 999999\n",
      "Data columns (total 5 columns):\n",
      " #   Column  Non-Null Count    Dtype         \n",
      "---  ------  --------------    -----         \n",
      " 0   size    1000000 non-null  object        \n",
      " 1   age     1000000 non-null  int64         \n",
      " 2   team    1000000 non-null  object        \n",
      " 3   date    1000000 non-null  datetime64[ns]\n",
      " 4   prob    1000000 non-null  float64       \n",
      "dtypes: datetime64[ns](1), float64(1), int64(1), object(2)\n",
      "memory usage: 38.1+ MB\n"
     ]
    }
   ],
   "source": [
    "df.info()"
   ]
  },
  {
   "cell_type": "code",
   "execution_count": 11,
   "id": "5fb1c298-ad9f-4676-be7d-bc290aa01ffa",
   "metadata": {
    "tags": []
   },
   "outputs": [
    {
     "data": {
      "text/html": [
       "<div>\n",
       "<style scoped>\n",
       "    .dataframe tbody tr th:only-of-type {\n",
       "        vertical-align: middle;\n",
       "    }\n",
       "\n",
       "    .dataframe tbody tr th {\n",
       "        vertical-align: top;\n",
       "    }\n",
       "\n",
       "    .dataframe thead th {\n",
       "        text-align: right;\n",
       "    }\n",
       "</style>\n",
       "<table border=\"1\" class=\"dataframe\">\n",
       "  <thead>\n",
       "    <tr style=\"text-align: right;\">\n",
       "      <th></th>\n",
       "      <th>size</th>\n",
       "      <th>age</th>\n",
       "      <th>team</th>\n",
       "      <th>date</th>\n",
       "      <th>prob</th>\n",
       "    </tr>\n",
       "  </thead>\n",
       "  <tbody>\n",
       "    <tr>\n",
       "      <th>0</th>\n",
       "      <td>big</td>\n",
       "      <td>34</td>\n",
       "      <td>green</td>\n",
       "      <td>2023-05-14</td>\n",
       "      <td>0.830370</td>\n",
       "    </tr>\n",
       "    <tr>\n",
       "      <th>1</th>\n",
       "      <td>medium</td>\n",
       "      <td>12</td>\n",
       "      <td>blue</td>\n",
       "      <td>2023-05-17</td>\n",
       "      <td>0.406155</td>\n",
       "    </tr>\n",
       "    <tr>\n",
       "      <th>2</th>\n",
       "      <td>medium</td>\n",
       "      <td>28</td>\n",
       "      <td>yellow</td>\n",
       "      <td>2023-06-06</td>\n",
       "      <td>0.197815</td>\n",
       "    </tr>\n",
       "    <tr>\n",
       "      <th>3</th>\n",
       "      <td>medium</td>\n",
       "      <td>4</td>\n",
       "      <td>blue</td>\n",
       "      <td>2023-06-20</td>\n",
       "      <td>0.625448</td>\n",
       "    </tr>\n",
       "    <tr>\n",
       "      <th>4</th>\n",
       "      <td>big</td>\n",
       "      <td>3</td>\n",
       "      <td>green</td>\n",
       "      <td>2023-12-06</td>\n",
       "      <td>0.008122</td>\n",
       "    </tr>\n",
       "  </tbody>\n",
       "</table>\n",
       "</div>"
      ],
      "text/plain": [
       "     size  age    team       date      prob\n",
       "0     big   34   green 2023-05-14  0.830370\n",
       "1  medium   12    blue 2023-05-17  0.406155\n",
       "2  medium   28  yellow 2023-06-06  0.197815\n",
       "3  medium    4    blue 2023-06-20  0.625448\n",
       "4     big    3   green 2023-12-06  0.008122"
      ]
     },
     "execution_count": 11,
     "metadata": {},
     "output_type": "execute_result"
    }
   ],
   "source": [
    "df.head()"
   ]
  },
  {
   "cell_type": "markdown",
   "id": "247bfa33-f760-4acd-9a91-ab87bca6ebc1",
   "metadata": {},
   "source": [
    "# To CSV"
   ]
  },
  {
   "cell_type": "code",
   "execution_count": 26,
   "id": "00c9d7f8-101c-49f9-a242-f569356b983e",
   "metadata": {
    "tags": []
   },
   "outputs": [
    {
     "name": "stdout",
     "output_type": "stream",
     "text": [
      "1.46 s ± 26.9 ms per loop (mean ± std. dev. of 7 runs, 1 loop each)\n"
     ]
    }
   ],
   "source": [
    "%%timeit\n",
    "df = get_dataset(1_000_000)\n",
    "df.to_csv(\"test_csv.csv\", index=False)"
   ]
  },
  {
   "cell_type": "code",
   "execution_count": 17,
   "id": "4f4c7b8a-6997-4f46-ab8a-bc6272e364bb",
   "metadata": {
    "tags": []
   },
   "outputs": [
    {
     "name": "stdout",
     "output_type": "stream",
     "text": [
      "100368 -rw-r--r--@ 1 julio  staff    48M Oct  2 06:52 test_csv.csv\n"
     ]
    }
   ],
   "source": [
    "!ls -GFlash test_csv.csv"
   ]
  },
  {
   "cell_type": "code",
   "execution_count": 27,
   "id": "8f0d397d-c9f5-48b5-abb8-ff2d0a275a07",
   "metadata": {
    "tags": []
   },
   "outputs": [
    {
     "name": "stdout",
     "output_type": "stream",
     "text": [
      "245 ms ± 3.47 ms per loop (mean ± std. dev. of 7 runs, 1 loop each)\n"
     ]
    }
   ],
   "source": [
    "%%timeit\n",
    "df = pd.read_csv(\"test_csv.csv\")"
   ]
  },
  {
   "cell_type": "code",
   "execution_count": 24,
   "id": "45d1ed1f-4e74-4764-9f31-100978c543c7",
   "metadata": {
    "tags": []
   },
   "outputs": [
    {
     "data": {
      "text/html": [
       "<div>\n",
       "<style scoped>\n",
       "    .dataframe tbody tr th:only-of-type {\n",
       "        vertical-align: middle;\n",
       "    }\n",
       "\n",
       "    .dataframe tbody tr th {\n",
       "        vertical-align: top;\n",
       "    }\n",
       "\n",
       "    .dataframe thead th {\n",
       "        text-align: right;\n",
       "    }\n",
       "</style>\n",
       "<table border=\"1\" class=\"dataframe\">\n",
       "  <thead>\n",
       "    <tr style=\"text-align: right;\">\n",
       "      <th></th>\n",
       "      <th>size</th>\n",
       "      <th>age</th>\n",
       "      <th>team</th>\n",
       "      <th>date</th>\n",
       "      <th>prob</th>\n",
       "    </tr>\n",
       "  </thead>\n",
       "  <tbody>\n",
       "    <tr>\n",
       "      <th>0</th>\n",
       "      <td>small</td>\n",
       "      <td>23</td>\n",
       "      <td>yellow</td>\n",
       "      <td>2023-08-09</td>\n",
       "      <td>0.630798</td>\n",
       "    </tr>\n",
       "    <tr>\n",
       "      <th>1</th>\n",
       "      <td>small</td>\n",
       "      <td>40</td>\n",
       "      <td>yellow</td>\n",
       "      <td>2023-02-02</td>\n",
       "      <td>0.676400</td>\n",
       "    </tr>\n",
       "    <tr>\n",
       "      <th>2</th>\n",
       "      <td>big</td>\n",
       "      <td>48</td>\n",
       "      <td>blue</td>\n",
       "      <td>2023-04-17</td>\n",
       "      <td>0.365593</td>\n",
       "    </tr>\n",
       "    <tr>\n",
       "      <th>3</th>\n",
       "      <td>big</td>\n",
       "      <td>44</td>\n",
       "      <td>green</td>\n",
       "      <td>2023-06-12</td>\n",
       "      <td>0.780306</td>\n",
       "    </tr>\n",
       "    <tr>\n",
       "      <th>4</th>\n",
       "      <td>medium</td>\n",
       "      <td>48</td>\n",
       "      <td>green</td>\n",
       "      <td>2023-12-22</td>\n",
       "      <td>0.889550</td>\n",
       "    </tr>\n",
       "  </tbody>\n",
       "</table>\n",
       "</div>"
      ],
      "text/plain": [
       "     size  age    team        date      prob\n",
       "0   small   23  yellow  2023-08-09  0.630798\n",
       "1   small   40  yellow  2023-02-02  0.676400\n",
       "2     big   48    blue  2023-04-17  0.365593\n",
       "3     big   44   green  2023-06-12  0.780306\n",
       "4  medium   48   green  2023-12-22  0.889550"
      ]
     },
     "execution_count": 24,
     "metadata": {},
     "output_type": "execute_result"
    }
   ],
   "source": [
    "df.head()"
   ]
  },
  {
   "cell_type": "markdown",
   "id": "d4235caf-fe6b-43fd-a9c6-e2fb38f47a6a",
   "metadata": {},
   "source": [
    "# Pickle"
   ]
  },
  {
   "cell_type": "code",
   "execution_count": 29,
   "id": "8d71ab00-e63b-48a9-9fdb-fcef9cc29a2e",
   "metadata": {
    "tags": []
   },
   "outputs": [
    {
     "name": "stdout",
     "output_type": "stream",
     "text": [
      "212 ms ± 4.96 ms per loop (mean ± std. dev. of 7 runs, 1 loop each)\n",
      "86.9 ms ± 3.22 ms per loop (mean ± std. dev. of 7 runs, 10 loops each)\n"
     ]
    }
   ],
   "source": [
    "df2 = get_dataset(1_000_000)\n",
    "%timeit df2.to_pickle(\"test.pickle\")\n",
    "%timeit df_pickle = pd.read_pickle(\"test.pickle\")"
   ]
  },
  {
   "cell_type": "code",
   "execution_count": 30,
   "id": "c03d5f9d-808e-4719-b116-9073d80c4321",
   "metadata": {
    "tags": []
   },
   "outputs": [
    {
     "data": {
      "text/html": [
       "<div>\n",
       "<style scoped>\n",
       "    .dataframe tbody tr th:only-of-type {\n",
       "        vertical-align: middle;\n",
       "    }\n",
       "\n",
       "    .dataframe tbody tr th {\n",
       "        vertical-align: top;\n",
       "    }\n",
       "\n",
       "    .dataframe thead th {\n",
       "        text-align: right;\n",
       "    }\n",
       "</style>\n",
       "<table border=\"1\" class=\"dataframe\">\n",
       "  <thead>\n",
       "    <tr style=\"text-align: right;\">\n",
       "      <th></th>\n",
       "      <th>size</th>\n",
       "      <th>age</th>\n",
       "      <th>team</th>\n",
       "      <th>date</th>\n",
       "      <th>prob</th>\n",
       "    </tr>\n",
       "  </thead>\n",
       "  <tbody>\n",
       "    <tr>\n",
       "      <th>0</th>\n",
       "      <td>small</td>\n",
       "      <td>35</td>\n",
       "      <td>red</td>\n",
       "      <td>2023-09-29</td>\n",
       "      <td>0.410612</td>\n",
       "    </tr>\n",
       "    <tr>\n",
       "      <th>1</th>\n",
       "      <td>medium</td>\n",
       "      <td>28</td>\n",
       "      <td>green</td>\n",
       "      <td>2023-06-21</td>\n",
       "      <td>0.880576</td>\n",
       "    </tr>\n",
       "    <tr>\n",
       "      <th>2</th>\n",
       "      <td>big</td>\n",
       "      <td>3</td>\n",
       "      <td>blue</td>\n",
       "      <td>2023-08-26</td>\n",
       "      <td>0.667634</td>\n",
       "    </tr>\n",
       "    <tr>\n",
       "      <th>3</th>\n",
       "      <td>big</td>\n",
       "      <td>9</td>\n",
       "      <td>green</td>\n",
       "      <td>2023-06-11</td>\n",
       "      <td>0.988966</td>\n",
       "    </tr>\n",
       "    <tr>\n",
       "      <th>4</th>\n",
       "      <td>small</td>\n",
       "      <td>28</td>\n",
       "      <td>yellow</td>\n",
       "      <td>2023-06-24</td>\n",
       "      <td>0.480027</td>\n",
       "    </tr>\n",
       "  </tbody>\n",
       "</table>\n",
       "</div>"
      ],
      "text/plain": [
       "     size  age    team       date      prob\n",
       "0   small   35     red 2023-09-29  0.410612\n",
       "1  medium   28   green 2023-06-21  0.880576\n",
       "2     big    3    blue 2023-08-26  0.667634\n",
       "3     big    9   green 2023-06-11  0.988966\n",
       "4   small   28  yellow 2023-06-24  0.480027"
      ]
     },
     "execution_count": 30,
     "metadata": {},
     "output_type": "execute_result"
    }
   ],
   "source": [
    "df2.head()\n"
   ]
  },
  {
   "cell_type": "code",
   "execution_count": 31,
   "id": "49c636de-29e0-450c-a356-cea0e7ae2366",
   "metadata": {},
   "outputs": [
    {
     "name": "stdout",
     "output_type": "stream",
     "text": [
      "<class 'pandas.core.frame.DataFrame'>\n",
      "RangeIndex: 1000000 entries, 0 to 999999\n",
      "Data columns (total 5 columns):\n",
      " #   Column  Non-Null Count    Dtype         \n",
      "---  ------  --------------    -----         \n",
      " 0   size    1000000 non-null  object        \n",
      " 1   age     1000000 non-null  int64         \n",
      " 2   team    1000000 non-null  object        \n",
      " 3   date    1000000 non-null  datetime64[ns]\n",
      " 4   prob    1000000 non-null  float64       \n",
      "dtypes: datetime64[ns](1), float64(1), int64(1), object(2)\n",
      "memory usage: 38.1+ MB\n"
     ]
    }
   ],
   "source": [
    "df2.info()"
   ]
  },
  {
   "cell_type": "markdown",
   "id": "d903d57d-a628-4595-a91a-130b9d545ce7",
   "metadata": {},
   "source": [
    "# Parquet"
   ]
  },
  {
   "cell_type": "code",
   "execution_count": 35,
   "id": "8adc6d60-da06-4614-9c7c-5af220437323",
   "metadata": {
    "tags": []
   },
   "outputs": [
    {
     "name": "stdout",
     "output_type": "stream",
     "text": [
      "124 ms ± 985 µs per loop (mean ± std. dev. of 7 runs, 10 loops each)\n"
     ]
    }
   ],
   "source": [
    "df3 = get_dataset(1_000_000)\n",
    "%timeit df3.to_parquet(\"test.parquet\")\n"
   ]
  },
  {
   "cell_type": "code",
   "execution_count": 49,
   "id": "9cfb22ec-d69a-4f70-933c-a0b32041b276",
   "metadata": {
    "tags": []
   },
   "outputs": [
    {
     "name": "stdout",
     "output_type": "stream",
     "text": [
      "46.5 ms ± 138 µs per loop (mean ± std. dev. of 7 runs, 10 loops each)\n",
      "<class 'pandas.core.frame.DataFrame'>\n",
      "RangeIndex: 1000000 entries, 0 to 999999\n",
      "Data columns (total 5 columns):\n",
      " #   Column  Non-Null Count    Dtype         \n",
      "---  ------  --------------    -----         \n",
      " 0   size    1000000 non-null  object        \n",
      " 1   age     1000000 non-null  int64         \n",
      " 2   team    1000000 non-null  object        \n",
      " 3   date    1000000 non-null  datetime64[ns]\n",
      " 4   prob    1000000 non-null  float64       \n",
      "dtypes: datetime64[ns](1), float64(1), int64(1), object(2)\n",
      "memory usage: 38.1+ MB\n"
     ]
    }
   ],
   "source": [
    "%timeit df_parquet = pd.read_parquet(\"test.parquet\")\n",
    "df_parquet = pd.read_parquet(\"test.parquet\")\n",
    "df_parquet.info()"
   ]
  },
  {
   "cell_type": "code",
   "execution_count": 50,
   "id": "12409236-bf0e-42d5-bcd1-f93728d77039",
   "metadata": {
    "tags": []
   },
   "outputs": [
    {
     "data": {
      "text/html": [
       "<div>\n",
       "<style scoped>\n",
       "    .dataframe tbody tr th:only-of-type {\n",
       "        vertical-align: middle;\n",
       "    }\n",
       "\n",
       "    .dataframe tbody tr th {\n",
       "        vertical-align: top;\n",
       "    }\n",
       "\n",
       "    .dataframe thead th {\n",
       "        text-align: right;\n",
       "    }\n",
       "</style>\n",
       "<table border=\"1\" class=\"dataframe\">\n",
       "  <thead>\n",
       "    <tr style=\"text-align: right;\">\n",
       "      <th></th>\n",
       "      <th>size</th>\n",
       "      <th>age</th>\n",
       "      <th>team</th>\n",
       "      <th>date</th>\n",
       "      <th>prob</th>\n",
       "    </tr>\n",
       "  </thead>\n",
       "  <tbody>\n",
       "    <tr>\n",
       "      <th>0</th>\n",
       "      <td>small</td>\n",
       "      <td>40</td>\n",
       "      <td>green</td>\n",
       "      <td>2023-07-20</td>\n",
       "      <td>0.293874</td>\n",
       "    </tr>\n",
       "    <tr>\n",
       "      <th>1</th>\n",
       "      <td>big</td>\n",
       "      <td>24</td>\n",
       "      <td>blue</td>\n",
       "      <td>2023-08-05</td>\n",
       "      <td>0.085979</td>\n",
       "    </tr>\n",
       "    <tr>\n",
       "      <th>2</th>\n",
       "      <td>small</td>\n",
       "      <td>47</td>\n",
       "      <td>red</td>\n",
       "      <td>2023-07-25</td>\n",
       "      <td>0.576642</td>\n",
       "    </tr>\n",
       "    <tr>\n",
       "      <th>3</th>\n",
       "      <td>big</td>\n",
       "      <td>3</td>\n",
       "      <td>blue</td>\n",
       "      <td>2023-05-21</td>\n",
       "      <td>0.821238</td>\n",
       "    </tr>\n",
       "    <tr>\n",
       "      <th>4</th>\n",
       "      <td>small</td>\n",
       "      <td>4</td>\n",
       "      <td>blue</td>\n",
       "      <td>2023-11-13</td>\n",
       "      <td>0.236005</td>\n",
       "    </tr>\n",
       "  </tbody>\n",
       "</table>\n",
       "</div>"
      ],
      "text/plain": [
       "    size  age   team       date      prob\n",
       "0  small   40  green 2023-07-20  0.293874\n",
       "1    big   24   blue 2023-08-05  0.085979\n",
       "2  small   47    red 2023-07-25  0.576642\n",
       "3    big    3   blue 2023-05-21  0.821238\n",
       "4  small    4   blue 2023-11-13  0.236005"
      ]
     },
     "execution_count": 50,
     "metadata": {},
     "output_type": "execute_result"
    }
   ],
   "source": [
    "df_parquet.head()"
   ]
  },
  {
   "cell_type": "code",
   "execution_count": 42,
   "id": "9a21d205-607e-4412-8497-0937522d7f86",
   "metadata": {
    "tags": []
   },
   "outputs": [
    {
     "name": "stdout",
     "output_type": "stream",
     "text": [
      "20888 -rw-r--r--@ 1 julio  staff    10M Oct  2 10:03 test.parquet\n"
     ]
    }
   ],
   "source": [
    "!ls -GFlash test.parquet"
   ]
  },
  {
   "cell_type": "code",
   "execution_count": 43,
   "id": "888f8858-11ca-42c0-a12c-277ededc99bb",
   "metadata": {
    "tags": []
   },
   "outputs": [
    {
     "data": {
      "text/html": [
       "<div>\n",
       "<style scoped>\n",
       "    .dataframe tbody tr th:only-of-type {\n",
       "        vertical-align: middle;\n",
       "    }\n",
       "\n",
       "    .dataframe tbody tr th {\n",
       "        vertical-align: top;\n",
       "    }\n",
       "\n",
       "    .dataframe thead th {\n",
       "        text-align: right;\n",
       "    }\n",
       "</style>\n",
       "<table border=\"1\" class=\"dataframe\">\n",
       "  <thead>\n",
       "    <tr style=\"text-align: right;\">\n",
       "      <th></th>\n",
       "      <th>date</th>\n",
       "      <th>size</th>\n",
       "      <th>age</th>\n",
       "    </tr>\n",
       "  </thead>\n",
       "  <tbody>\n",
       "    <tr>\n",
       "      <th>0</th>\n",
       "      <td>2023-07-20</td>\n",
       "      <td>small</td>\n",
       "      <td>40</td>\n",
       "    </tr>\n",
       "    <tr>\n",
       "      <th>1</th>\n",
       "      <td>2023-08-05</td>\n",
       "      <td>big</td>\n",
       "      <td>24</td>\n",
       "    </tr>\n",
       "    <tr>\n",
       "      <th>2</th>\n",
       "      <td>2023-07-25</td>\n",
       "      <td>small</td>\n",
       "      <td>47</td>\n",
       "    </tr>\n",
       "    <tr>\n",
       "      <th>3</th>\n",
       "      <td>2023-05-21</td>\n",
       "      <td>big</td>\n",
       "      <td>3</td>\n",
       "    </tr>\n",
       "    <tr>\n",
       "      <th>4</th>\n",
       "      <td>2023-11-13</td>\n",
       "      <td>small</td>\n",
       "      <td>4</td>\n",
       "    </tr>\n",
       "    <tr>\n",
       "      <th>...</th>\n",
       "      <td>...</td>\n",
       "      <td>...</td>\n",
       "      <td>...</td>\n",
       "    </tr>\n",
       "    <tr>\n",
       "      <th>999995</th>\n",
       "      <td>2023-07-15</td>\n",
       "      <td>small</td>\n",
       "      <td>1</td>\n",
       "    </tr>\n",
       "    <tr>\n",
       "      <th>999996</th>\n",
       "      <td>2023-05-21</td>\n",
       "      <td>small</td>\n",
       "      <td>12</td>\n",
       "    </tr>\n",
       "    <tr>\n",
       "      <th>999997</th>\n",
       "      <td>2023-07-02</td>\n",
       "      <td>big</td>\n",
       "      <td>30</td>\n",
       "    </tr>\n",
       "    <tr>\n",
       "      <th>999998</th>\n",
       "      <td>2023-06-01</td>\n",
       "      <td>small</td>\n",
       "      <td>10</td>\n",
       "    </tr>\n",
       "    <tr>\n",
       "      <th>999999</th>\n",
       "      <td>2023-11-01</td>\n",
       "      <td>small</td>\n",
       "      <td>5</td>\n",
       "    </tr>\n",
       "  </tbody>\n",
       "</table>\n",
       "<p>1000000 rows × 3 columns</p>\n",
       "</div>"
      ],
      "text/plain": [
       "             date   size  age\n",
       "0      2023-07-20  small   40\n",
       "1      2023-08-05    big   24\n",
       "2      2023-07-25  small   47\n",
       "3      2023-05-21    big    3\n",
       "4      2023-11-13  small    4\n",
       "...           ...    ...  ...\n",
       "999995 2023-07-15  small    1\n",
       "999996 2023-05-21  small   12\n",
       "999997 2023-07-02    big   30\n",
       "999998 2023-06-01  small   10\n",
       "999999 2023-11-01  small    5\n",
       "\n",
       "[1000000 rows x 3 columns]"
      ]
     },
     "execution_count": 43,
     "metadata": {},
     "output_type": "execute_result"
    }
   ],
   "source": [
    "pd.read_parquet(\"test.parquet\", columns=[\"date\", \"size\", \"age\"])"
   ]
  },
  {
   "cell_type": "markdown",
   "id": "6a6df3f7-015a-4f73-ae4e-4a34dc1fab59",
   "metadata": {},
   "source": [
    "# Feather"
   ]
  },
  {
   "cell_type": "code",
   "execution_count": 44,
   "id": "c97205f1-8ec8-48bf-b2da-f0c1f0507cf1",
   "metadata": {
    "tags": []
   },
   "outputs": [
    {
     "name": "stdout",
     "output_type": "stream",
     "text": [
      "58.5 ms ± 3.8 ms per loop (mean ± std. dev. of 7 runs, 1 loop each)\n",
      "36.5 ms ± 110 µs per loop (mean ± std. dev. of 7 runs, 10 loops each)\n"
     ]
    }
   ],
   "source": [
    "df4 = get_dataset(1_000_000)\n",
    "%timeit df4.to_feather(\"test.feather\")\n",
    "%timeit df4_feather = pd.read_feather(\"test.feather\")"
   ]
  },
  {
   "cell_type": "code",
   "execution_count": 46,
   "id": "e12576b9-c984-4441-a984-94a3a830153c",
   "metadata": {
    "tags": []
   },
   "outputs": [],
   "source": [
    "df4_feather = pd.read_feather(\"test.feather\")"
   ]
  },
  {
   "cell_type": "code",
   "execution_count": 48,
   "id": "653b976c-e6e9-448f-97e0-76081a7cc77c",
   "metadata": {
    "tags": []
   },
   "outputs": [
    {
     "name": "stdout",
     "output_type": "stream",
     "text": [
      "<class 'pandas.core.frame.DataFrame'>\n",
      "RangeIndex: 1000000 entries, 0 to 999999\n",
      "Data columns (total 5 columns):\n",
      " #   Column  Non-Null Count    Dtype         \n",
      "---  ------  --------------    -----         \n",
      " 0   size    1000000 non-null  object        \n",
      " 1   age     1000000 non-null  int64         \n",
      " 2   team    1000000 non-null  object        \n",
      " 3   date    1000000 non-null  datetime64[ns]\n",
      " 4   prob    1000000 non-null  float64       \n",
      "dtypes: datetime64[ns](1), float64(1), int64(1), object(2)\n",
      "memory usage: 38.1+ MB\n"
     ]
    },
    {
     "data": {
      "text/html": [
       "<div>\n",
       "<style scoped>\n",
       "    .dataframe tbody tr th:only-of-type {\n",
       "        vertical-align: middle;\n",
       "    }\n",
       "\n",
       "    .dataframe tbody tr th {\n",
       "        vertical-align: top;\n",
       "    }\n",
       "\n",
       "    .dataframe thead th {\n",
       "        text-align: right;\n",
       "    }\n",
       "</style>\n",
       "<table border=\"1\" class=\"dataframe\">\n",
       "  <thead>\n",
       "    <tr style=\"text-align: right;\">\n",
       "      <th></th>\n",
       "      <th>size</th>\n",
       "      <th>age</th>\n",
       "      <th>team</th>\n",
       "      <th>date</th>\n",
       "      <th>prob</th>\n",
       "    </tr>\n",
       "  </thead>\n",
       "  <tbody>\n",
       "    <tr>\n",
       "      <th>0</th>\n",
       "      <td>small</td>\n",
       "      <td>15</td>\n",
       "      <td>blue</td>\n",
       "      <td>2023-06-13</td>\n",
       "      <td>0.065698</td>\n",
       "    </tr>\n",
       "    <tr>\n",
       "      <th>1</th>\n",
       "      <td>big</td>\n",
       "      <td>40</td>\n",
       "      <td>yellow</td>\n",
       "      <td>2023-08-13</td>\n",
       "      <td>0.348198</td>\n",
       "    </tr>\n",
       "    <tr>\n",
       "      <th>2</th>\n",
       "      <td>medium</td>\n",
       "      <td>28</td>\n",
       "      <td>yellow</td>\n",
       "      <td>2023-03-05</td>\n",
       "      <td>0.220668</td>\n",
       "    </tr>\n",
       "    <tr>\n",
       "      <th>3</th>\n",
       "      <td>big</td>\n",
       "      <td>39</td>\n",
       "      <td>yellow</td>\n",
       "      <td>2023-09-20</td>\n",
       "      <td>0.487917</td>\n",
       "    </tr>\n",
       "    <tr>\n",
       "      <th>4</th>\n",
       "      <td>medium</td>\n",
       "      <td>1</td>\n",
       "      <td>blue</td>\n",
       "      <td>2023-03-21</td>\n",
       "      <td>0.348706</td>\n",
       "    </tr>\n",
       "  </tbody>\n",
       "</table>\n",
       "</div>"
      ],
      "text/plain": [
       "     size  age    team       date      prob\n",
       "0   small   15    blue 2023-06-13  0.065698\n",
       "1     big   40  yellow 2023-08-13  0.348198\n",
       "2  medium   28  yellow 2023-03-05  0.220668\n",
       "3     big   39  yellow 2023-09-20  0.487917\n",
       "4  medium    1    blue 2023-03-21  0.348706"
      ]
     },
     "execution_count": 48,
     "metadata": {},
     "output_type": "execute_result"
    }
   ],
   "source": [
    "df4_feather.info()\n",
    "df4_feather.head()"
   ]
  },
  {
   "cell_type": "code",
   "execution_count": null,
   "id": "f3ab5b1a-76c1-40c2-bd83-f290b9a5f75f",
   "metadata": {},
   "outputs": [],
   "source": []
  }
 ],
 "metadata": {
  "kernelspec": {
   "display_name": "Python 3 (ipykernel)",
   "language": "python",
   "name": "python3"
  },
  "language_info": {
   "codemirror_mode": {
    "name": "ipython",
    "version": 3
   },
   "file_extension": ".py",
   "mimetype": "text/x-python",
   "name": "python",
   "nbconvert_exporter": "python",
   "pygments_lexer": "ipython3",
   "version": "3.11.5"
  }
 },
 "nbformat": 4,
 "nbformat_minor": 5
}
